{
  "nbformat": 4,
  "nbformat_minor": 0,
  "metadata": {
    "colab": {
      "name": "runtime_script.ipynb",
      "provenance": [],
      "collapsed_sections": [],
      "toc_visible": true,
      "include_colab_link": true
    },
    "kernelspec": {
      "name": "python3",
      "display_name": "Python 3"
    },
    "accelerator": "GPU"
  },
  "cells": [
    {
      "cell_type": "markdown",
      "metadata": {
        "id": "view-in-github",
        "colab_type": "text"
      },
      "source": [
        "<a href=\"https://colab.research.google.com/github/jpo85/meshroom_colab/blob/main/runtime_script.ipynb\" target=\"_parent\"><img src=\"https://colab.research.google.com/assets/colab-badge.svg\" alt=\"Open In Colab\"/></a>"
      ]
    },
    {
      "cell_type": "markdown",
      "metadata": {
        "id": "jj7c6rJCGwk8"
      },
      "source": [
        "# Fotogrammetria tramite Google Cloud & Meshroom\n",
        "\n",
        "Questa pagina web si prefigge lo scopo di facilitare l'elaborazione di un dataset di foto per tentare una prima elaborazione e ricostruzione fotogrammetrica. Gli strumenti che vengono utilizzati per eseguire l'elaborazione sono il servizio Google colab e Meshroom.\n",
        "\n",
        "Il servizio Google Colab, ha lo scopo di eseguire in cloud lo script composto da comandi shell bash e python per l'elaborazione delle immagini e la creazione della mesh 3d finale.\n",
        "Google Colab è una piattaforma di google, nata principalmente per eseguire quelle operazioni di machine learning che richiedono prestazioni e potenza di calcolo elevata. Nel nostro caso specifico verrà utilizzato per fini alternativi, e verrà messo a disposizione dall'infrastruttura cloud la seguente potenza di calcolo:\n",
        "\n",
        "*   32 GB di RAM\n",
        "*   GPU con 16GB di RAM dedicata e funzionalità CUDA\n",
        "*   Circa 40GB su filesystem\n",
        "\n",
        "Meshroom è un software con licenza opensource che consente tramite foto e video di effettuare una ricostruzione fotogrammetrica, basandosi sul framework AliceVision. L'interfaccia di utilizzo è basata sulla logica dei workflow, in cui ogni blocco è collegato al successivo salvando su una folder l'elaborazione temporanea ed infine generando una mesh poligonale. Questo runtime consente eventualmente anche di utilizzare un workflow custom in cui è possibile avere più risultati diversi:\n",
        "si può ad esempio aggiungere un workflow di post produzione che effettua un Meshdecimate + Retexturing + Retopology della mesh, oppure esportare la pointcloud prima che venga creata la mesh;\n",
        "si può aggiungere anche un workflow che esporta la mesh finale ed effettua l'upload su sketchfab.\n",
        "\n",
        "Per fare tutto ciò, basta creare un workflow custom tramite GUI dalla propria installazione meshroom su pc ed eportarlo in formato .mg in modo poi da copiare il file su google drive ed inserirlo nel comando \n",
        "\n",
        "*meshroom_compute --forceCompute /content/Mydrive/custom_workflow.mg*\n",
        "\n",
        "\n",
        "\n"
      ]
    },
    {
      "cell_type": "markdown",
      "metadata": {
        "id": "fo6hyKWgLh-u"
      },
      "source": [
        "# Come funziona\n",
        "\n",
        "La logica di questa guida è innanzitutto capire che non si tratta di una semplice pagina web statica ma di una vera e propria guida StepByStep in cui dopo ogni spiegazione è presente direttamente il codice già compilato da eseguire. In ogni cella è già scritto tutto il codice necessario per una elaborazione standard. Il workflow di default che viene eseguito in questa guida consente di leggere una dataset di foto e generare un file obj 3d con le sue relative texture.\n",
        "il risutato finale sarà:\n",
        "\n",
        "*   1 file in formato .obj\n",
        "*   vari file di texture in formato .jpeg\n",
        "*   1 file con la libreria dei materia in formato .mtl\n",
        "\n",
        "Il codice presente è modificabile a seconda delle proprie esigenze. Ad esempio se si dispone di un workflow meshroom custom (.mg file)si può eseguire la realtiva cella avendo precedentemente importato il file e avendo l'accortezza di modificare al suo interno tutti i path.\n",
        "\n",
        "Di default il comando nella cella è commentato, per eseguirlo deve essere decommentato\n",
        "\n",
        "\n",
        "\n",
        "\n"
      ]
    },
    {
      "cell_type": "markdown",
      "metadata": {
        "id": "thYq-kOiP7wG"
      },
      "source": [
        "# Prerequisiti\n",
        "\n",
        "Lo script per essere eseguito prevede una minima configurazione iniziale e non necessita successivamente di scrivere codice.\n",
        "Come prerequisito serve avere un'account google drive con spazio a sufficienza per fare l'upload delle foto e salvare la mesh finale. Lo script infatti utilizza come input e output due folder di google drive, le quali dovranno essere create a mano per consentire al codice di leggere le foto, elaborarle e salvare la mesh finale."
      ]
    },
    {
      "cell_type": "markdown",
      "metadata": {
        "id": "btIRsfytTd_L"
      },
      "source": [
        "# Guida StepByStep\n",
        "\n",
        "Di seguito uno dopo l'altro sono riportati tutti i passaggi da eseguire che guideranno l'utente nell'elaborazione fotogrammetrica.\n",
        "\n",
        "Per eseguire il codice basta cliccare sul tasto play (run cell).\n",
        "Comparirà un messaggio di avviso, andare avanti e cliccare su run anyway.\n",
        "\n",
        "Per funzionare richiede l'accesso con un account google."
      ]
    },
    {
      "cell_type": "markdown",
      "metadata": {
        "id": "kcAhqbDTzSNH"
      },
      "source": [
        "**0. Configurare il runtime in modalità GPU ed eseguire il check**\n",
        "\n",
        "Questo blocco una volta eseguito consente di verificare se il runtime è configurato con l'utilizzo della GPU. Nel caso in cui l'esito fosse negativo, si riporta di seguito come abilitare tale funzione. Si ricorda che la GPU è fondamentale per una esecuzione più veloce dello script.\n",
        "\n",
        "*Abilitare le GPU per il notebook:\n",
        "Andare su Runtime → Change runtime type → Hardware Accelertor → select GPU\n",
        "\n",
        "---\n",
        "\n",
        "L' output dello script deve dare come risultato:\n",
        "\n",
        "**Found GPU at: /device:GPU:0**\n",
        "\n",
        "in questo caso sarà configurato in modo corretto\n",
        "\n"
      ]
    },
    {
      "cell_type": "code",
      "metadata": {
        "id": "cyeTmmZazgTu"
      },
      "source": [
        "%tensorflow_version 2.x\n",
        "import tensorflow as tf\n",
        "device_name = tf.test.gpu_device_name()\n",
        "if device_name != '/device:GPU:0':\n",
        "  raise SystemError('GPU device not found')\n",
        "print('Found GPU at: {}'.format(device_name))"
      ],
      "execution_count": null,
      "outputs": []
    },
    {
      "cell_type": "markdown",
      "metadata": {
        "id": "3wBFjbjIz9ZX"
      },
      "source": [
        "**1. Connettere un account Google Drive**\n",
        "\n",
        "Come prima cosa bisogna aver creato nel filesystem di google drive nella root, due folder chiamate /input e /output\n",
        "\n",
        "\n",
        "*   dentro /input effettuare l'upload del dataset di foto\n",
        "*   dentro /output a fine ricostruzione verrà salvata la mesh + textures + mtl\n",
        "\n",
        "Eseguendo il codice verrà richiesto l'authorization code per autorizzare il runtime ad accedere al filesystem di google drive. Cliccare sul link, copiare la key generata incollarla nella text input premere Invio.\n",
        "\n",
        "Una volta terminata l'esecuzione si vedrà nel filesystem del runtime il mountpont di google drive dentro /content/drive/MyDrive \n"
      ]
    },
    {
      "cell_type": "code",
      "metadata": {
        "id": "NB2T3gnb1GY4"
      },
      "source": [
        "from google.colab import drive\n",
        "drive.mount('/content/drive', force_remount=True)"
      ],
      "execution_count": null,
      "outputs": []
    },
    {
      "cell_type": "markdown",
      "metadata": {
        "id": "kpxHm8UdUpzc"
      },
      "source": [
        "**2. Creare le folder necessarie e fare il download di meshroom:**\n",
        "\n",
        "Questo codice crea due folder necessarie per ospitare l'eseguibile di meshroom zippato e scompattarlo.\n",
        "\n",
        "*   /content/temp - contiene il pacchetto meshroom scaricato\n",
        "*   /content/meshroom - contiene tutti gli eseguibili di meshroom scompattati e \n",
        "pronti per essere eseguiti\n",
        "\n",
        "La versione utilizzata di meshroom è la v2019.2.0 for linux."
      ]
    },
    {
      "cell_type": "code",
      "metadata": {
        "id": "HIsZd9i70xVT"
      },
      "source": [
        "%cd /content\n",
        "!mkdir temp\n",
        "!mkdir meshroom\n",
        "%cd temp\n",
        "!wget -N https://github.com/alicevision/meshroom/releases/download/v2019.2.0/Meshroom-2019.2.0-linux.tar.gz\n",
        "!tar -xvf Meshroom-2019.2.0-linux.tar.gz -C ../meshroom"
      ],
      "execution_count": null,
      "outputs": []
    },
    {
      "cell_type": "markdown",
      "metadata": {
        "id": "rNG04CViFTU-"
      },
      "source": [
        "**2.1 Importare un workflow custom (facoltativo)**\n",
        "\n",
        "Se si vuole eseguire la ricostruzione utilizzando un workflow custom personalizzato eseguire la seguente cella decommentando(#) la stringa. \n",
        "\n",
        "Ricordarsi di aver modificato tutti i path all'interno del file .mg e di averlo importato su google drive rinominando il file in *myworkflow.mg*"
      ]
    },
    {
      "cell_type": "code",
      "metadata": {
        "id": "JWNRqon3GGAX"
      },
      "source": [
        "# !/content/meshroom/Meshroom-2019.2.0/meshroom_compute --forceCompute /content/drive/MyDrive/Documents/myworkflow.mg"
      ],
      "execution_count": null,
      "outputs": []
    },
    {
      "cell_type": "markdown",
      "metadata": {
        "id": "4E_kAx-2wq3O"
      },
      "source": [
        "**3. Eseguire Meshroom**\n",
        "\n",
        "Se i precendenti blocchi sono stati eseguiti senza errori, si può avviare il la cella che effettua la vera e propria ricostruzione fotogrammetrica. Il workflow di default salverà ogni output parziale dentro la folder:\n",
        "\n",
        "* /tmp/MeshroomCache\n",
        "\n",
        "l'output finale, come riportato precedentemente, sarà salvato dentro:\n",
        "\n",
        "* /content/drive/MyDrive/output\n",
        "\n",
        "---\n",
        "---\n",
        "\n",
        "**NOTA BENE: NON CHIUDERE LA PAGINA WEB, ANCHE CHIUDENDO LA PAGINA IL RUNTIME CONTINUERA' L'ESECUZIONE PER LE SUCCESSIVE 12 ORE, MA NON SI POTRA' VERIFICARE LO STATO DI AVANZEMENTO. PASSATE 12 ORE VERRA' SMONTATO IL FYLESYSTEM DI GOOGLE DRIVE CANCELLATO IL CONTENUTO DI /CONTENT /TMP E VERRA' STOPPATA L'ESECUZIONE DEL RUNTIME ANCHE NEL CASO IN CUI NON SIA ANCORA TERMINATA LA RICOSTRUZIONE**\n",
        "\n",
        "\n",
        "\n"
      ]
    },
    {
      "cell_type": "code",
      "metadata": {
        "id": "3GimHqrGwsmu"
      },
      "source": [
        "!/content/meshroom/Meshroom-2019.2.0/meshroom_photogrammetry --input '/content/drive/MyDrive/input' --output '/content/drive/MyDrive/output'"
      ],
      "execution_count": null,
      "outputs": []
    },
    {
      "cell_type": "markdown",
      "metadata": {
        "id": "49aKN-I0Oddu"
      },
      "source": [
        "**4. Preview Mesh usando Trimesh** \n",
        "\n",
        "ancora in fase sperimentale"
      ]
    },
    {
      "cell_type": "code",
      "metadata": {
        "id": "uY7p1hKj81Uq"
      },
      "source": [
        "!pip install numpy\n",
        "!pip install trimesh\n",
        "%cd /content/drive/output"
      ],
      "execution_count": null,
      "outputs": []
    },
    {
      "cell_type": "markdown",
      "metadata": {
        "id": "kTYgiJauVF26"
      },
      "source": [
        "lancia preview"
      ]
    },
    {
      "cell_type": "code",
      "metadata": {
        "id": "fWi3nrpn8_ZT"
      },
      "source": [
        "import numpy as np\n",
        "import trimesh\n",
        "mesh = trimesh.load_mesh('texturedMesh.obj')\n",
        "mesh.show()"
      ],
      "execution_count": null,
      "outputs": []
    },
    {
      "cell_type": "markdown",
      "metadata": {
        "id": "XS7vvnDSdULM"
      },
      "source": [
        "*version 1.4*\n",
        "\n",
        "*Author: jacopo pica*\n",
        "\n",
        "*jpo85@hotmail.it*\n",
        "\n",
        "*https://it.linkedin.com/in/jacopo-pica-8164a4161*\n",
        "\n",
        "*https://github.com/jpo85*\n"
      ]
    }
  ]
}