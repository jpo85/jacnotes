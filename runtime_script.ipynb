{
  "nbformat": 4,
  "nbformat_minor": 0,
  "metadata": {
    "colab": {
      "name": "MeshroomColab.ipynb",
      "provenance": [],
      "collapsed_sections": [],
      "include_colab_link": true
    },
    "kernelspec": {
      "name": "python3",
      "display_name": "Python 3"
    },
    "accelerator": "GPU"
  },
  "cells": [
    {
      "cell_type": "markdown",
      "metadata": {
        "id": "view-in-github",
        "colab_type": "text"
      },
      "source": [
        "<a href=\"https://colab.research.google.com/github/jpo85/meshroom_colab/blob/main/runtime_script.ipynb\" target=\"_parent\"><img src=\"https://colab.research.google.com/assets/colab-badge.svg\" alt=\"Open In Colab\"/></a>"
      ]
    },
    {
      "cell_type": "markdown",
      "metadata": {
        "id": "jj7c6rJCGwk8"
      },
      "source": [
        "# Fotogrammetria tramite Google Cloud & Meshroom\n",
        "\n",
        "Questa pagina web si prefigge lo scopo di facilitare l'elaborazione di un dataset di foto per tentare una prima elaborazione e ricostruzione fotogrammetrica. Gli strumenti che vengono utilizzati per eseguire l'elaborazione sono il servizio Google colab e Meshroom.\n",
        "\n",
        "Il servizio Google Colab dove è anche ospitata la seguente pagina web, ha lo scopo di eseguire in cloud gli script shell e python per l'elaborazione delle immagini e la creazione della mesh 3d finale.\n",
        "Google Colab è una piattaforma di google, nata principalmente per eseguire quelle operazioni di machine learning che richiedono prestazioni e potenza di calcolo elevata. Nel nostro caso specifico lo utilizzeremo per fini alternativi, e verranno messe a disposizione dall'infrastruttura cloud le seguenti potenze di calcolo:\n",
        "\n",
        "*   32 GB di RAM\n",
        "*   GPU con 16GB di RAM dedicata e funzionalità CUDA\n",
        "*   Circa 40GB su filesystem\n",
        "\n",
        "Meshroom è un software con licenza opensource che consente tramite foto e video di effettuare una ricostruzione fotogrammetrica, basandosi sul framework AliceVision. L'interfaccia di utilizzo è basata sulla logica dei workflow, in cui ogni blocco è collegato al successivo e salvando su una folder l'elaborazione temporanea ed infine generando una mesh poligonale. Questo runtime coonsente eventualmente anche di utilizzare un workflow custom in cui è possibile avere più risultati diversi.\n",
        "Si può ad esemopio aggiungere un workflow di post produzione che effettui un Meshdecimate + Retexturing + Retopology della mesh, oppure esportare la pointcloud prima che venga creata la mesh.\n",
        "Aggiungere anche un workflow che esporti la mesh finale ed effettui l'upload su sketchfab.\n",
        "\n",
        "Per fare tutto ciò basta creare un workflow custom tramite gui dalla propria installazione meshroom su pc, eportarla in formato .mg, copiarla su gdrive ed inserire l'opzione nel comando dello script.\n",
        "\n",
        "\n",
        "\n"
      ]
    },
    {
      "cell_type": "markdown",
      "metadata": {
        "id": "fo6hyKWgLh-u"
      },
      "source": [
        "# Come funziona\n",
        "\n",
        "la logica di questa guida è innanzitutto capire che non si tratta di una semplice pagina web statica ma di una vera e propria guida stepbystep dove dopo ogni spiegazione è presente direttamente il codice gà scritto da eseguire. Su ogni blocco è già scritto tutto il codice necessario per una elaborazione standard. Il workflow standard che viene eseguito in questa guida consente di prendere una dataset di foto e generare un file obj 3d con le sue relative texture.\n",
        "il risutato finale sarà:\n",
        "\n",
        "*   1 file in formato .obj\n",
        "*   vari file di texture in formato .jpeg\n",
        "*   1 file con la libreria dei materia in formato .mtl\n",
        "\n",
        "Il codice presente è aperto perciò è modificabile a seconda delle proprie esigenze. Ad esempio se si dispone di un workflow meshroom custom si può inserire il comando per l'importazione del workflow specifico, e far eseguire quello anzichè quello di default del software.\n",
        "\n",
        "\n",
        "\n",
        "\n"
      ]
    },
    {
      "cell_type": "markdown",
      "metadata": {
        "id": "thYq-kOiP7wG"
      },
      "source": [
        "# Prerequisiti\n",
        "\n",
        "Lo script per essere eseguito prevede una minima configurazione iniziale e non necessita successivamente di scrivere codice.\n",
        "Come prerequisito serve avere un'account google drive con spazio a sufficienza per fare l'upload delle foto e salvare la mesh finale. Lo script infatti utilizza come input e output due folder di google drive, le quali dovranno essere create a mano per consentire al codice di leggere le foto, elaborarle e salvare la mesh finale."
      ]
    },
    {
      "cell_type": "markdown",
      "metadata": {
        "id": "btIRsfytTd_L"
      },
      "source": [
        "# Esecuzione StepByStep\n",
        "\n",
        "Di seguito sono riportati una serie di passaggi da eseguire uno dopo l'altro che guideranno l'utente nell'elaborazione fotogrammetrica."
      ]
    },
    {
      "cell_type": "markdown",
      "metadata": {
        "id": "kcAhqbDTzSNH"
      },
      "source": [
        "**0. Configura il runtime in modalità GPU e fai il check**\n",
        "\n",
        "Questo blocco una volta eseguito consente di verificare se il runtime è configurato con l'utilizzo della GPU. Nel caso in cui l'esito fosse negativo, si riporta di seguito come abilitare tale funzione. Si ricorda che la GPU è fondamentale per una esecuzione più veloce dello script.\n",
        "\n",
        "*abilitare le GPU per il notebook:\n",
        "Vai Modifica → Impostazioni blocco note\n",
        "Seleziona GPU dal menu a discesa Acceleratore hardware\n",
        "Successivamente, confermeremo che possiamo connetterci alla GPU con tensorflow*\n",
        "\n"
      ]
    },
    {
      "cell_type": "code",
      "metadata": {
        "id": "cyeTmmZazgTu"
      },
      "source": [
        "%tensorflow_version 2.x\n",
        "import tensorflow as tf\n",
        "device_name = tf.test.gpu_device_name()\n",
        "if device_name != '/device:GPU:0':\n",
        "  raise SystemError('GPU device not found')\n",
        "print('Found GPU at: {}'.format(device_name))"
      ],
      "execution_count": null,
      "outputs": []
    },
    {
      "cell_type": "markdown",
      "metadata": {
        "id": "3wBFjbjIz9ZX"
      },
      "source": [
        "**1. Connetti il tuo account di Google Drive**\n",
        "\n",
        "come prima cosa devi aver creato nel filesystem di gdrive sulla root, due folder chiamate /input e /output\n",
        "\n",
        "\n",
        "*   dentro /input devi fare l'upload del dataset di foto\n",
        "*   dentro /output a fine ricostruzione troverai la mesh + textures + mtl\n",
        "\n",
        "eseguendo il codice ti verrà richiesto l'authorization code per autorizzare il runtime ad accedere al filesystem di gdrive. Clicca sul link, copia la key generata e premi invio.\n",
        "\n",
        "una volta eseguito verrà fatto un mountpoint del tuo gdrive dentro la folder /content/drive/MyDrive del runtime. \n"
      ]
    },
    {
      "cell_type": "code",
      "metadata": {
        "id": "NB2T3gnb1GY4"
      },
      "source": [
        "from google.colab import drive\n",
        "drive.mount('/content/drive', force_remount=True)"
      ],
      "execution_count": null,
      "outputs": []
    },
    {
      "cell_type": "markdown",
      "metadata": {
        "id": "kpxHm8UdUpzc"
      },
      "source": [
        "**2. Crea le folder necessarie e fai il download di meshroom:**\n",
        "\n",
        "Questo codice una volta eseguito crea due folder necessarie per ospitare l'eseguibile di meshroom zippato e scompattarlo.\n",
        "\n",
        "*   /content/temp - contiene il pacchetto meshroom scaricato\n",
        "*   /content/meshroom - contiene tutti gli eseguibili di meshroom scompattati e \n",
        "pronti per essere eseguiti\n",
        "\n",
        "la versione utilizzata di meshroom è la v2019.2.0 for linux\n",
        "\n",
        "\n",
        "\n"
      ]
    },
    {
      "cell_type": "code",
      "metadata": {
        "id": "HIsZd9i70xVT"
      },
      "source": [
        "%cd /content\n",
        "!mkdir temp\n",
        "!mkdir meshroom\n",
        "%cd temp\n",
        "!wget -N https://github.com/alicevision/meshroom/releases/download/v2019.2.0/Meshroom-2019.2.0-linux.tar.gz\n",
        "!tar -xvf Meshroom-2019.2.0-linux.tar.gz -C ../meshroom"
      ],
      "execution_count": null,
      "outputs": []
    },
    {
      "cell_type": "markdown",
      "metadata": {
        "id": "4E_kAx-2wq3O"
      },
      "source": [
        "**3. Esegui Meshroom**\n",
        "\n",
        "Se i precendenti blocchi sono stati eseguiti senza errori, si può avvire il blocco che effettua la vera e propria ricostruzione fotogrammetrica. Il workflow di default salverà ogni output parziale dentro la folder:\n",
        "\n",
        "* /tmp/MeshroomCache\n",
        "\n",
        "l'output finale, come riportato precedentemente, sarà salvato dentro:\n",
        "\n",
        "* /content/drive/MyDrive/output\n",
        "\n",
        "\n",
        "**NOTA BENE: NON CHIUDERE LA PAGINA WEB SE SI VUOLE RIMANERE CONNESSI PER VEDERE L'AVANZAMENTO. ANCHE CHIUDENDO LA PAGINA IL RUNTIME CONTINUERA L'ESECUZIONE PER LE SUCCESSIVE 12 ORE. PASSATE 12 ORE VERRA' CANCELLATO TUTTO IL FILESYSTEM DEL RUNTIME E VERRA' STOPPATA L'ESECUZIONE DELLO SCRIPT NEL CASO IN CUI NON SIA ANCORA TERMINATO**\n",
        "\n"
      ]
    },
    {
      "cell_type": "code",
      "metadata": {
        "id": "3GimHqrGwsmu"
      },
      "source": [
        "!/content/meshroom/Meshroom-2019.2.0/meshroom_photogrammetry --input '/content/drive/MyDrive/input' --output '/content/drive/MyDrive/output'"
      ],
      "execution_count": null,
      "outputs": []
    },
    {
      "cell_type": "markdown",
      "metadata": {
        "id": "49aKN-I0Oddu"
      },
      "source": [
        "**4. Preview Mesh usando Trimesh** \n",
        "\n",
        "ancora in fase sperimentale"
      ]
    },
    {
      "cell_type": "code",
      "metadata": {
        "id": "uY7p1hKj81Uq"
      },
      "source": [
        "!pip install numpy\n",
        "!pip install trimesh\n",
        "%cd /content/drive/output"
      ],
      "execution_count": null,
      "outputs": []
    },
    {
      "cell_type": "markdown",
      "metadata": {
        "id": "kTYgiJauVF26"
      },
      "source": [
        "lancia preview"
      ]
    },
    {
      "cell_type": "code",
      "metadata": {
        "id": "fWi3nrpn8_ZT"
      },
      "source": [
        "import numpy as np\n",
        "import trimesh\n",
        "mesh = trimesh.load_mesh('texturedMesh.obj')\n",
        "mesh.show()"
      ],
      "execution_count": null,
      "outputs": []
    },
    {
      "cell_type": "markdown",
      "metadata": {
        "id": "XS7vvnDSdULM"
      },
      "source": [
        "*version 1.4*\n",
        "\n",
        "*Author: jacopo pica*\n",
        "\n",
        "*jpo85@hotmail.it*\n",
        "\n",
        "*https://it.linkedin.com/in/jacopo-pica-8164a4161*\n",
        "\n",
        "*https://github.com/jpo85*\n"
      ]
    }
  ]
}