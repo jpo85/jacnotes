{
  "nbformat": 4,
  "nbformat_minor": 0,
  "metadata": {
    "colab": {
      "name": "MeshroomColab.ipynb",
      "provenance": [],
      "collapsed_sections": [],
      "include_colab_link": true
    },
    "kernelspec": {
      "name": "python3",
      "display_name": "Python 3"
    },
    "accelerator": "GPU"
  },
  "cells": [
    {
      "cell_type": "markdown",
      "metadata": {
        "id": "view-in-github",
        "colab_type": "text"
      },
      "source": [
        "<a href=\"https://colab.research.google.com/github/jpo85/meshroom_colab/blob/main/MeshroomColab_Ver1.3.ipynb\" target=\"_parent\"><img src=\"https://colab.research.google.com/assets/colab-badge.svg\" alt=\"Open In Colab\"/></a>"
      ]
    },
    {
      "cell_type": "markdown",
      "metadata": {
        "id": "jj7c6rJCGwk8"
      },
      "source": [
        "# Fotogrammetria tramite google Cloud & Meshroom\n",
        "\n",
        "Questa pagina web si prefigge lo scopo di aiutare l'elaborazione di un dataset di foto per tentare una prima elaborazione e ricostruzione fotogrammetrica. Gli strumenti che vengono utilizzati per eseguire l'elaborazione sono il servizio Google colab e meshroom.\n",
        "\n",
        "Il servizio Google Colab dove è anche ospitata la seguente pagina web ha lo scopo di eseguire in cloud gli script shell e python per l'elaborazione delle immagini e la creazione della mesh 3d finale.\n",
        "Google Colab è una piattaforma di google nata principalmente per eseguire quelle operazioni di machine learning che richiedono prestazioni e potenza di calcolo elevata. Nel nostro caso specifico vengono messe a disposizione dall'infrastruttura cloud di google le seguenti potenze di calcolo:\n",
        "\n",
        "*   32 GB di RAM\n",
        "*   GPU con 16GB di RAM dedicata e funzionalità CUDA\n",
        "*   Circa 40GB su filesystem\n",
        "\n",
        "Meshroom è un software con licenza opensource che consente tramite foto/video di effettuare una ricostruzione fotogrammetrica basandosi sul framework AliceVision. L'interfaccia di utilizzo è basata sulla logica dei workflow in cui ogni blocco è collegato al successivo e salva su una folder l'elaborazione temporanea. Questo processo consente di creare anche workflow custom in cui è possibile avere più elaborazione in formato diverso.\n",
        "\n",
        "\n",
        "\n"
      ]
    },
    {
      "cell_type": "markdown",
      "metadata": {
        "id": "fo6hyKWgLh-u"
      },
      "source": [
        "# Come funziona\n",
        "\n",
        "la logica di questa guida è innanzitutto capire che non si tratta di una semplice pagina web statica ma di una vera e propria guida stepbystep dove dopo ogni spiegazione è presente direttamente il codice gà scritto da eseguire. Su ogni blocco è già scritto tutto il codice necessario per una elaborazione standard. Il workflow standard che viene eseguito in questa guida consente di prendere una dataset di foto e generare un file obj 3d con le sue relative texture.\n",
        "il risutato finale sarà:\n",
        "\n",
        "*   1 file in formato .obj\n",
        "*   vari file di texture in formato .jpeg\n",
        "*   1 file con la libreria dei materia in formato .mtl\n",
        "\n",
        "Il codice presente è aperto perciò è modificabile a seconda delle proprie esigenze. Ad esempio se si dispone di un workflow meshroom custom si può inserire il comando per l'importazione del workflow specifico, e far eseguire quello anzichè quello di default del software.\n",
        "\n",
        "\n",
        "\n",
        "\n"
      ]
    },
    {
      "cell_type": "markdown",
      "metadata": {
        "id": "thYq-kOiP7wG"
      },
      "source": [
        "# Prerequisiti\n",
        "\n",
        "Ll codice per essere eseguito prevede una minima configurazione iniziale e non serve successivamente scrivere codice.\n",
        "Come prerequisito serve avere un'account google drive con spazio a sufficienza per fare l'upload delle foto e salvare la mesh finale. Lo script infatti utilizza come input e output due folder di google drive che dovranno essere create a mano per consentire al codice di prendere le foto, elaborarle e salvare la mesh finale."
      ]
    },
    {
      "cell_type": "markdown",
      "metadata": {
        "id": "btIRsfytTd_L"
      },
      "source": [
        "# Esecuzione stepbystep\n",
        "\n",
        "Di seguito sono riportati una serie di passaggi numerati da eseguire uno dopo l'altro che guideranno l'utente nell'elaborazione fotogrammetrica."
      ]
    },
    {
      "cell_type": "markdown",
      "metadata": {
        "id": "kcAhqbDTzSNH"
      },
      "source": [
        "**0. Configura il runtime in modalità GPU e fai il check**\n",
        "\n",
        "questo blocco una volta eseguito consente di verificare se il runtime è configurato per eseguire l'elaborazione tramite l'utilizzo della GPU. Nel caso in cui l'esito fosse negativo, si riporta di seguito come abilitare tale funzione. Si ricorda che la GPU è fondamentale per una esecuzione più veloce dello script\n",
        "\n",
        "abilitare le GPU per il notebook:\n",
        "\n",
        "Vai a Modifica → Impostazioni blocco note\n",
        "Seleziona GPU dal menu a discesa Acceleratore hardware\n",
        "Successivamente, confermeremo che possiamo connetterci alla GPU con tensorflow"
      ]
    },
    {
      "cell_type": "code",
      "metadata": {
        "id": "cyeTmmZazgTu"
      },
      "source": [
        "%tensorflow_version 2.x\n",
        "import tensorflow as tf\n",
        "device_name = tf.test.gpu_device_name()\n",
        "if device_name != '/device:GPU:0':\n",
        "  raise SystemError('GPU device not found')\n",
        "print('Found GPU at: {}'.format(device_name))"
      ],
      "execution_count": null,
      "outputs": []
    },
    {
      "cell_type": "markdown",
      "metadata": {
        "id": "3wBFjbjIz9ZX"
      },
      "source": [
        "**1. connetti a Google Drive**\n",
        "\n",
        "connetti a google drive utilizzando l'authorization code\n"
      ]
    },
    {
      "cell_type": "code",
      "metadata": {
        "id": "NB2T3gnb1GY4"
      },
      "source": [
        "from google.colab import drive\n",
        "drive.mount('/content/drive', force_remount=True)"
      ],
      "execution_count": null,
      "outputs": []
    },
    {
      "cell_type": "markdown",
      "metadata": {
        "id": "kpxHm8UdUpzc"
      },
      "source": [
        "**2. crea le folder necessarie e fa il download di meshroom:**\n",
        "*   /content - contiene la root del pacchetto meshroom che sarà eseguito\n",
        "*   /content/temp - contiene il pacchetto meshroom scaricato\n",
        "*   /content/meshroom - contiene tutti gli eseguibili di meshroom scompattati e pronti per essere eseguiti\n",
        "\n",
        "\n",
        "\n",
        "\n",
        "\n",
        "\n"
      ]
    },
    {
      "cell_type": "code",
      "metadata": {
        "id": "HIsZd9i70xVT"
      },
      "source": [
        "%cd /content\n",
        "!mkdir temp\n",
        "!mkdir meshroom\n",
        "%cd temp\n",
        "!wget -N https://github.com/alicevision/meshroom/releases/download/v2019.2.0/Meshroom-2019.2.0-linux.tar.gz\n",
        "!tar -xvf Meshroom-2019.2.0-linux.tar.gz -C ../meshroom"
      ],
      "execution_count": null,
      "outputs": []
    },
    {
      "cell_type": "markdown",
      "metadata": {
        "id": "4E_kAx-2wq3O"
      },
      "source": [
        "\n",
        "**3. esegui meshroom**\n",
        "*   il nodi salvano temporaneamente nella folder **/tmp/MeshroomCache**\n",
        "*   il file obj finale viene salvato nella folder **/content/drive/output**\n"
      ]
    },
    {
      "cell_type": "code",
      "metadata": {
        "id": "3GimHqrGwsmu"
      },
      "source": [
        "!/content/meshroom/Meshroom-2019.2.0/meshroom_photogrammetry --input '/content/drive/MyDrive/input' --output '/content/drive/MyDrive/output'"
      ],
      "execution_count": null,
      "outputs": []
    },
    {
      "cell_type": "markdown",
      "metadata": {
        "id": "49aKN-I0Oddu"
      },
      "source": [
        "**4. Preview Mesh usando Trimesh** \n",
        "\n",
        "ancora in fase sperimentale"
      ]
    },
    {
      "cell_type": "code",
      "metadata": {
        "id": "uY7p1hKj81Uq"
      },
      "source": [
        "!pip install numpy\n",
        "!pip install trimesh\n",
        "%cd /content/drive/output"
      ],
      "execution_count": null,
      "outputs": []
    },
    {
      "cell_type": "markdown",
      "metadata": {
        "id": "kTYgiJauVF26"
      },
      "source": [
        "lancia preview"
      ]
    },
    {
      "cell_type": "code",
      "metadata": {
        "id": "fWi3nrpn8_ZT"
      },
      "source": [
        "import numpy as np\n",
        "import trimesh\n",
        "mesh = trimesh.load_mesh('texturedMesh.obj')\n",
        "mesh.show()"
      ],
      "execution_count": null,
      "outputs": []
    }
  ]
}