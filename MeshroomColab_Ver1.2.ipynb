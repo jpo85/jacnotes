{
  "nbformat": 4,
  "nbformat_minor": 0,
  "metadata": {
    "colab": {
      "name": "MeshroomColab.ipynb",
      "provenance": [],
      "collapsed_sections": [],
      "include_colab_link": true
    },
    "kernelspec": {
      "name": "python3",
      "display_name": "Python 3"
    },
    "accelerator": "GPU"
  },
  "cells": [
    {
      "cell_type": "markdown",
      "metadata": {
        "id": "view-in-github",
        "colab_type": "text"
      },
      "source": [
        "<a href=\"https://colab.research.google.com/github/jpo85/meshroom_colab/blob/main/MeshroomColab_Ver1.2.ipynb\" target=\"_parent\"><img src=\"https://colab.research.google.com/assets/colab-badge.svg\" alt=\"Open In Colab\"/></a>"
      ]
    },
    {
      "cell_type": "markdown",
      "metadata": {
        "id": "3wBFjbjIz9ZX"
      },
      "source": [
        "**1. connetti a Google Drive**\n",
        "\n",
        "connetti a google drive utilizzando l'authorization code\n"
      ]
    },
    {
      "cell_type": "code",
      "metadata": {
        "id": "NB2T3gnb1GY4"
      },
      "source": [
        "from google.colab import drive\n",
        "drive.mount('/content/drive', force_remount=True)"
      ],
      "execution_count": null,
      "outputs": []
    },
    {
      "cell_type": "markdown",
      "metadata": {
        "id": "kpxHm8UdUpzc"
      },
      "source": [
        "**2. crea le folder necessarie e fa il download di meshroom:**\n",
        "*   /content - contiene la root del pacchetto meshroom che sarà eseguito\n",
        "*   /content/temp - contiene il pacchetto meshroom scaricato\n",
        "*   /content/meshroom - contiene tutti gli eseguibili di meshroom scompattati e pronti per essere eseguiti\n",
        "\n",
        "\n",
        "\n",
        "\n",
        "\n",
        "\n"
      ]
    },
    {
      "cell_type": "code",
      "metadata": {
        "id": "HIsZd9i70xVT"
      },
      "source": [
        "%cd /content\n",
        "!mkdir temp\n",
        "!mkdir meshroom\n",
        "%cd temp\n",
        "!wget -N https://github.com/alicevision/meshroom/releases/download/v2019.2.0/Meshroom-2019.2.0-linux.tar.gz\n",
        "!tar -xvf Meshroom-2019.2.0-linux.tar.gz -C ../meshroom"
      ],
      "execution_count": null,
      "outputs": []
    },
    {
      "cell_type": "markdown",
      "metadata": {
        "id": "4E_kAx-2wq3O"
      },
      "source": [
        "\n",
        "**3. esegui meshroom**\n",
        "*   il nodi salvano temporaneamente nella folder **/tmp/MeshroomCache**\n",
        "*   il file obj finale viene salvato nella folder **/content/drive/output**\n"
      ]
    },
    {
      "cell_type": "code",
      "metadata": {
        "id": "3GimHqrGwsmu"
      },
      "source": [
        "!/content/meshroom/Meshroom-2019.2.0/meshroom_photogrammetry --input '/content/drive/MyDrive/input' --output '/content/drive/MyDrive/output'"
      ],
      "execution_count": null,
      "outputs": []
    },
    {
      "cell_type": "markdown",
      "metadata": {
        "id": "49aKN-I0Oddu"
      },
      "source": [
        "**4. Preview Mesh usando Trimesh** \n",
        "\n",
        "ancora in fase sperimentale"
      ]
    },
    {
      "cell_type": "code",
      "metadata": {
        "id": "uY7p1hKj81Uq"
      },
      "source": [
        "!pip install numpy\n",
        "!pip install trimesh\n",
        "%cd /content/drive/output"
      ],
      "execution_count": null,
      "outputs": []
    },
    {
      "cell_type": "markdown",
      "metadata": {
        "id": "kTYgiJauVF26"
      },
      "source": [
        "lancia preview"
      ]
    },
    {
      "cell_type": "code",
      "metadata": {
        "id": "fWi3nrpn8_ZT"
      },
      "source": [
        "import numpy as np\n",
        "import trimesh\n",
        "mesh = trimesh.load_mesh('texturedMesh.obj')\n",
        "mesh.show()"
      ],
      "execution_count": null,
      "outputs": []
    }
  ]
}
